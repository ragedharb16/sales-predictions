{
  "nbformat": 4,
  "nbformat_minor": 0,
  "metadata": {
    "colab": {
      "name": "project 2.1",
      "provenance": [],
      "authorship_tag": "ABX9TyOhpn+IIMruEu3No+ediDEU",
      "include_colab_link": true
    },
    "kernelspec": {
      "name": "python3",
      "display_name": "Python 3"
    },
    "language_info": {
      "name": "python"
    }
  },
  "cells": [
    {
      "cell_type": "markdown",
      "metadata": {
        "id": "view-in-github",
        "colab_type": "text"
      },
      "source": [
        "<a href=\"https://colab.research.google.com/github/ragedharb16/sales-predictions/blob/main/project_2_1.ipynb\" target=\"_parent\"><img src=\"https://colab.research.google.com/assets/colab-badge.svg\" alt=\"Open In Colab\"/></a>"
      ]
    },
    {
      "cell_type": "markdown",
      "source": [
        "Raged abou \n",
        "\n",
        "03/10/2022\n",
        "\n",
        "Option A"
      ],
      "metadata": {
        "id": "WupkNTd3hz7l"
      }
    },
    {
      "cell_type": "code",
      "execution_count": 2,
      "metadata": {
        "id": "mhlTXNw7eU85"
      },
      "outputs": [],
      "source": [
        "import pandas as pd \n",
        "import numpy as np"
      ]
    },
    {
      "cell_type": "code",
      "source": [
        "df= pd.read_csv('/content/outwithoutindex.csv')\n",
        "df.shape"
      ],
      "metadata": {
        "colab": {
          "base_uri": "https://localhost:8080/"
        },
        "id": "PuEcde6AesaU",
        "outputId": "51818115-20fd-42c9-ee51-adcf7275944a"
      },
      "execution_count": 5,
      "outputs": [
        {
          "output_type": "execute_result",
          "data": {
            "text/plain": [
              "(6825, 16)"
            ]
          },
          "metadata": {},
          "execution_count": 5
        }
      ]
    },
    {
      "cell_type": "markdown",
      "source": [
        "1) Source of data\n",
        "\n",
        "https://www.kaggle.com/jonhcarvalho/videogames"
      ],
      "metadata": {
        "id": "32nm4aYYfm17"
      }
    },
    {
      "cell_type": "markdown",
      "source": [
        "2) Brief description of data\n",
        "\n",
        "the data is about video games is divided in genres, plataform, critics, ratings, developers among others , is one of the biggest industry in the world "
      ],
      "metadata": {
        "id": "qv6BPnbVfttG"
      }
    },
    {
      "cell_type": "markdown",
      "source": [
        "3) What is the target? \n",
        "\n",
        "the target will be global sales"
      ],
      "metadata": {
        "id": "KGo7k25kgbny"
      }
    },
    {
      "cell_type": "markdown",
      "source": [
        "4) Is this a classification or regression problem?\n",
        "\n",
        "is a regression problem since we want to predict numbers "
      ],
      "metadata": {
        "id": "1hstNCHIgrF9"
      }
    },
    {
      "cell_type": "markdown",
      "source": [
        "5) How many features?\n",
        "\n",
        "\n",
        "it has 15 features and one target"
      ],
      "metadata": {
        "id": "dUVNJ-PNgy_O"
      }
    },
    {
      "cell_type": "markdown",
      "source": [
        "6) How many rows of data.\n",
        "\n",
        "6825 rows"
      ],
      "metadata": {
        "id": "9Td-Lu8fhDOx"
      }
    },
    {
      "cell_type": "markdown",
      "source": [
        "7) What, if any, challenges do your foresee in cleaning, exploring, or modeling with this dataset?\n",
        "\n",
        "well acoording to cleaning is a big data we might have some typen problems or duplicated we going to look into that, there is visualitation challenges, and of course with machine learning that we going to aproach using diferents methods"
      ],
      "metadata": {
        "id": "antAgfvshLt3"
      }
    }
  ]
}